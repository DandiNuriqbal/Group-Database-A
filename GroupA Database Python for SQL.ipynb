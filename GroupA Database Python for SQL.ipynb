{
 "cells": [
  {
   "cell_type": "code",
   "execution_count": 69,
   "metadata": {
    "id": "83OA7c3Zanb1"
   },
   "outputs": [
    {
     "name": "stdout",
     "output_type": "stream",
     "text": [
      "Reading data from table\n"
     ]
    }
   ],
   "source": [
    "import pyodbc\n",
    "\n",
    "server = 'mcruebs04.isad.isadroot.ex.ac.uk'\n",
    "database = 'BEMM459_GroupA'\n",
    "username = 'GroupA'\n",
    "password = 'DzaJ684+Yp'\n",
    "\n",
    "# Driver for own machine.  Comment out when on windows machine.\n",
    "#serverstring = 'DRIVER={/opt/homebrew/cellar/msodbcsql18/18.1.2.1/lib/libmsodbcsql.18.dylib};SERVER='+server+';DATABASE='+database+';UID='+username+';PWD='+ password+';TrustServerCertificate=yes;Encrypt=no;'\n",
    "\n",
    "# print(serverstring)\n",
    "\n",
    "#cnxn = pyodbc.connect(serverstring)\n",
    "\n",
    "cnxn = pyodbc.connect('DRIVER={ODBC Driver 17 for SQL Server};SERVER='+server+';DATABASE='+database+';UID='+username+';PWD='+ password+';TrustServerCertificate=yes;Encrypt=no;')\n",
    "\n",
    "cursor = cnxn.cursor()\n",
    "\n",
    "print('Reading data from table')"
   ]
  },
  {
   "cell_type": "code",
   "execution_count": 70,
   "metadata": {},
   "outputs": [
    {
     "name": "stdout",
     "output_type": "stream",
     "text": [
      "Additional Memberships created successfully!\n"
     ]
    }
   ],
   "source": [
    "def create_new_membership():\n",
    "    try:\n",
    "        # SQL command to create the membership table\n",
    "        create_new_membership = '''\n",
    "        INSERT INTO membership (membership_id, customer_id)\n",
    "        VALUES\n",
    "            ('MD12034', 'C00000031');\n",
    "        '''\n",
    "        cursor.execute(create_new_membership)\n",
    "        cnxn.commit()\n",
    "        print(\"Additional Memberships created successfully!\")\n",
    "\n",
    "    except Exception as e:\n",
    "        print(\"Error creating membership:\", e)\n",
    "\n",
    "# Call the function to create the table\n",
    "create_new_membership()"
   ]
  },
  {
   "cell_type": "code",
   "execution_count": 71,
   "metadata": {},
   "outputs": [
    {
     "name": "stdout",
     "output_type": "stream",
     "text": [
      "Cart Notification:\n",
      "('C00000021', 1525)\n",
      "('C00000027', 1525)\n",
      "('C00000024', 1549)\n",
      "('C00000024', 1549)\n",
      "('C00000024', 1549)\n",
      "('C00000024', 1549)\n",
      "('C00000013', 1549)\n",
      "('C00000013', 1549)\n",
      "('C00000024', 1573)\n",
      "('C00000040', 1573)\n",
      "('C00000038', 1597)\n",
      "('C00000038', 1597)\n",
      "('C00000038', 1645)\n",
      "('C00000002', 1645)\n",
      "('C00000022', 1645)\n",
      "('C00000014', 1669)\n",
      "('C00000014', 1693)\n",
      "('C00000014', 1693)\n",
      "('C00000023', 1717)\n",
      "('C00000026', 1717)\n",
      "('C00000002', 1717)\n",
      "('C00000026', 1741)\n",
      "('C00000037', 1741)\n",
      "('C00000023', 1741)\n",
      "('C00000021', 1741)\n",
      "('C00000037', 1765)\n",
      "('C00000041', 1813)\n",
      "('C00000041', 1837)\n",
      "('C00000037', 1861)\n",
      "('C00000024', 1861)\n",
      "('C00000042', 1885)\n",
      "('C00000042', 1885)\n",
      "('C00000040', 1885)\n",
      "('C00000045', 1885)\n",
      "('C00000045', 1885)\n",
      "('C00000040', 1909)\n",
      "('C00000030', 1933)\n",
      "('C00000030', 1933)\n",
      "('C00000036', 1981)\n",
      "('C00000001', 1981)\n",
      "('C00000046', 1981)\n",
      "('C00000041', 2005)\n",
      "('C00000041', 2005)\n",
      "('C00000001', 2005)\n",
      "('C00000044', 2029)\n",
      "('C00000044', 2029)\n",
      "('C00000039', 2053)\n",
      "('C00000039', 2077)\n",
      "('C00000004', 2077)\n",
      "('C00000042', 2077)\n"
     ]
    }
   ],
   "source": [
    "# READ operation\n",
    "def read_cart():\n",
    "    try:\n",
    "        cursor.execute(\"WITH data_table AS (SELECT t1.customer_id, DATEDIFF(HOUR, t2.created_time, GETDATE()) AS time_since_created FROM customer t1 LEFT JOIN cart t2 ON t1.customer_id = t2.customer_id) SELECT * FROM data_table WHERE time_since_created >= 24 ORDER BY time_since_created ASC;\")\n",
    "\n",
    "        rows = cursor.fetchall()\n",
    "        print(\"Cart Notification:\")\n",
    "        for row in rows:\n",
    "            print(row)\n",
    "    except Exception as e:\n",
    "        print(\"Error reading cart:\", e)\n",
    "read_cart()"
   ]
  },
  {
   "cell_type": "code",
   "execution_count": 72,
   "metadata": {
    "id": "X9tZyh46avnj"
   },
   "outputs": [
    {
     "name": "stdout",
     "output_type": "stream",
     "text": [
      "('C00000024', Decimal('19.71'))\n",
      "('C00000038', Decimal('7.43'))\n",
      "('C00000023', Decimal('6.07'))\n"
     ]
    }
   ],
   "source": [
    "def read_cashback_amounts(cursor):\n",
    "    try:\n",
    "        # SQL query to read cashback amounts\n",
    "        query = '''\n",
    "        SELECT\n",
    "            customer_id,\n",
    "            SUM(cashback_amount) as total_cashback\n",
    "        FROM\n",
    "            cashback\n",
    "        GROUP BY\n",
    "            customer_id\n",
    "        ORDER BY\n",
    "            total_cashback DESC;\n",
    "        '''\n",
    "        cursor.execute(query)\n",
    "        rows = cursor.fetchmany(3)  # Fetch only the first three rows\n",
    "        for row in rows:\n",
    "            print(row)\n",
    "    except Exception as e:\n",
    "        print(\"Error reading cashback amounts:\", e)\n",
    "\n",
    "read_cashback_amounts(cursor)"
   ]
  },
  {
   "cell_type": "code",
   "execution_count": 73,
   "metadata": {
    "id": "XNw966kWa3bI"
   },
   "outputs": [
    {
     "name": "stdout",
     "output_type": "stream",
     "text": [
      "Order Item updated successfully!\n"
     ]
    }
   ],
   "source": [
    "def update_order_item(order_items):\n",
    "    try:\n",
    "        for order_item in order_items:\n",
    "            order_item_id, new_quantity = order_item[0], order_item[1]\n",
    "            cursor.execute(\"UPDATE order_item SET quantity = ? WHERE order_item_id = ?\", (new_quantity, order_item_id))\n",
    "        cnxn.commit()\n",
    "        print(\"Order Item updated successfully!\")\n",
    "    except Exception as e:\n",
    "        cnxn.rollback()\n",
    "        print(\"Error updating order item:\", e)\n",
    "\n",
    "# Example usage:\n",
    "order_items = [\n",
    "    ('OI1001', 11),\n",
    "    ('OI1002', 12),\n",
    "    ('OI1003', 13)\n",
    "]\n",
    "\n",
    "update_order_item(order_items)"
   ]
  },
  {
   "cell_type": "code",
   "execution_count": 74,
   "metadata": {
    "id": "0tTgAyeea3vX"
   },
   "outputs": [
    {
     "name": "stdout",
     "output_type": "stream",
     "text": [
      "Order Item found:\n",
      "Order Item ID: OI1001\n",
      "Quantity: 11\n",
      "Price: 5.67\n"
     ]
    }
   ],
   "source": [
    "def read_order_item(order_item_id):\n",
    "    try:\n",
    "        cursor.execute(\"SELECT * FROM order_item WHERE order_item_id = ?\", (order_item_id,))\n",
    "        result = cursor.fetchone()\n",
    "        if result:\n",
    "            print(\"Order Item found:\")\n",
    "            print(\"Order Item ID:\", result[0])\n",
    "            print(\"Quantity:\", result[1])\n",
    "            print(\"Price:\", result[2])\n",
    "            # Add more fields as needed\n",
    "        else:\n",
    "            print(\"Order Item not found.\")\n",
    "    except Exception as e:\n",
    "        print(\"Error reading order item:\", e)\n",
    "\n",
    "# Example usage:\n",
    "order_item_id = 'OI1001'\n",
    "read_order_item(order_item_id)"
   ]
  },
  {
   "cell_type": "code",
   "execution_count": 75,
   "metadata": {
    "id": "SzlQ7UFmbdpw"
   },
   "outputs": [
    {
     "name": "stdout",
     "output_type": "stream",
     "text": [
      "Promotion deleted successfully!\n"
     ]
    }
   ],
   "source": [
    "def delete_promotion(product_id, campaign_code):\n",
    "    try:\n",
    "        cursor.execute(\"DELETE FROM promotion WHERE product_id = ? AND campaign_code = ?\", (product_id, campaign_code))\n",
    "        cnxn.commit()\n",
    "        print(\"Promotion deleted successfully!\")\n",
    "    except Exception as e:\n",
    "        cnxn.rollback()\n",
    "        print(\"Error deleting promotion:\", e)\n",
    "\n",
    "# Example usage:\n",
    "product_id = 'PD7209'\n",
    "campaign_code = 'EASTER20'\n",
    "\n",
    "delete_promotion(product_id, campaign_code)"
   ]
  },
  {
   "cell_type": "code",
   "execution_count": 76,
   "metadata": {
    "id": "PLw45xx7bd_X"
   },
   "outputs": [
    {
     "name": "stdout",
     "output_type": "stream",
     "text": [
      "Promotion table:\n"
     ]
    }
   ],
   "source": [
    "def read_promotion():\n",
    "    try:\n",
    "        cursor.execute(\"SELECT * FROM promotion WHERE product_id ='PD7209' \")\n",
    "        rows = cursor.fetchall()\n",
    "        print(\"Promotion table:\")\n",
    "        for row in rows:\n",
    "            print(row)\n",
    "    except Exception as e:\n",
    "        print(\"Error reading cart:\", e)\n",
    "read_promotion()"
   ]
  },
  {
   "cell_type": "code",
   "execution_count": null,
   "metadata": {
    "id": "RZv9CDdrhpLt"
   },
   "outputs": [],
   "source": []
  }
 ],
 "metadata": {
  "colab": {
   "provenance": []
  },
  "kernelspec": {
   "display_name": "Python 3 (ipykernel)",
   "language": "python",
   "name": "python3"
  },
  "language_info": {
   "codemirror_mode": {
    "name": "ipython",
    "version": 3
   },
   "file_extension": ".py",
   "mimetype": "text/x-python",
   "name": "python",
   "nbconvert_exporter": "python",
   "pygments_lexer": "ipython3",
   "version": "3.11.4"
  }
 },
 "nbformat": 4,
 "nbformat_minor": 1
}
